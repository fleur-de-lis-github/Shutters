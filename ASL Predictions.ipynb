{
 "cells": [
  {
   "cell_type": "markdown",
   "metadata": {},
   "source": [
    "# Description of the Sign-Language MNIST Problem (American Sign Language)\n",
    "\n",
    "## Author: Spriha Ghosh\n",
    "\n",
    "Sign Language is a unique type of communication that often goes understudied. While the translation process between signs and a spoken or written language is formally called ‘interpretation,’ the function that interpreting plays is the same as that of translation for a spoken language. \n",
    "\n",
    "$\\color{red}{\\text{In our project, we look at American Sign Language (ASL), which is used in the USA and in English-speaking Canada and has many different }}$\n",
    "\n",
    "$\\color{red}{\\text{dialects. There are 22 handshapes that correspond to the 26 letters of the alphabet, and you can sign the 10 digits on one hand.}}$\n",
    "\n",
    "\n",
    "<font color='blue'>**The use of depth-sensing technology is quickly growing in popularity, and other tools have been incorporated into the process that have proven successful. Developments such as custom-designed color gloves have been used to facilitate the recognition process and make the feature extraction step more efficient by making certain gestural units easier to identify and classify**</font>\n",
    "\n",
    "<font color='green'>**Until recently, however, methods of automatic sign language recognition weren’t able to make use of the depth-sensing technology that is as widely available today. Previous works made use of very basic camera technology to generate datasets of simply images, with no depth or contour information available, just the pixels present.**</font> \n",
    "\n",
    "A | B | C\n",
    "- | - | -\n",
    "![alt](https://c.tenor.com/CoBDQZxkNRYAAAAC/asl-sign-language.gif) | ![alt](https://c.tenor.com/Ee-t11TCPuwAAAAC/understand-signtime.gif) | ![alt](https://c.tenor.com/wWR8t03Yx5wAAAAC/no-sign-language.gif)\n",
    "\n"
   ]
  },
  {
   "cell_type": "markdown",
   "metadata": {},
   "source": [
    "## Importing the Essential Libraries"
   ]
  },
  {
   "cell_type": "code",
   "execution_count": 3,
   "metadata": {
    "_cell_guid": "b1076dfc-b9ad-4769-8c92-a6c4dae69d19",
    "_uuid": "8f2839f25d086af736a60e9eeb907d3b93b6e0e5",
    "execution": {
     "iopub.execute_input": "2021-10-03T02:55:42.739972Z",
     "iopub.status.busy": "2021-10-03T02:55:42.739687Z",
     "iopub.status.idle": "2021-10-03T02:55:42.758675Z",
     "shell.execute_reply": "2021-10-03T02:55:42.757916Z",
     "shell.execute_reply.started": "2021-10-03T02:55:42.739943Z"
    }
   },
   "outputs": [
    {
     "name": "stdout",
     "output_type": "stream",
     "text": [
      "/kaggle/input/sign-language-mnist/sign_mnist_test.csv\n",
      "/kaggle/input/sign-language-mnist/amer_sign2.png\n",
      "/kaggle/input/sign-language-mnist/amer_sign3.png\n",
      "/kaggle/input/sign-language-mnist/sign_mnist_train.csv\n",
      "/kaggle/input/sign-language-mnist/american_sign_language.PNG\n",
      "/kaggle/input/sign-language-mnist/sign_mnist_test/sign_mnist_test.csv\n",
      "/kaggle/input/sign-language-mnist/sign_mnist_train/sign_mnist_train.csv\n"
     ]
    }
   ],
   "source": [
    "import numpy as np # linear algebra\n",
    "import pandas as pd # data processing, CSV file I/O (e.g. pd.read_csv)\n",
    "\n",
    "# Input data files are available in the \"../input/\" directory.\n",
    "import os\n",
    "for dirname, _, filenames in os.walk('/kaggle/input'):\n",
    "    for filename in filenames:\n",
    "        print(os.path.join(dirname, filename))"
   ]
  },
  {
   "cell_type": "code",
   "execution_count": 55,
   "metadata": {
    "_cell_guid": "79c7e3d0-c299-4dcb-8224-4455121ee9b0",
    "_uuid": "d629ff2d2480ee46fbb7e2d37f6b5fab8052498a",
    "execution": {
     "iopub.execute_input": "2021-10-03T03:29:20.213750Z",
     "iopub.status.busy": "2021-10-03T03:29:20.213476Z",
     "iopub.status.idle": "2021-10-03T03:29:20.219648Z",
     "shell.execute_reply": "2021-10-03T03:29:20.218627Z",
     "shell.execute_reply.started": "2021-10-03T03:29:20.213723Z"
    }
   },
   "outputs": [],
   "source": [
    "import matplotlib.pyplot as plt\n",
    "import seaborn as sns\n",
    "import keras\n",
    "from keras.models import Sequential\n",
    "from keras.layers import Dense, Conv2D , MaxPool2D , Flatten , Dropout , BatchNormalization\n",
    "from keras.preprocessing.image import ImageDataGenerator\n",
    "from sklearn.model_selection import train_test_split\n",
    "from sklearn.metrics import classification_report,confusion_matrix\n",
    "from keras.callbacks import ReduceLROnPlateau, ModelCheckpoint"
   ]
  },
  {
   "cell_type": "markdown",
   "metadata": {},
   "source": [
    "# Loading the ASL dataset"
   ]
  },
  {
   "cell_type": "code",
   "execution_count": 4,
   "metadata": {
    "execution": {
     "iopub.execute_input": "2021-10-03T02:55:47.876410Z",
     "iopub.status.busy": "2021-10-03T02:55:47.876134Z",
     "iopub.status.idle": "2021-10-03T02:55:52.693570Z",
     "shell.execute_reply": "2021-10-03T02:55:52.692815Z",
     "shell.execute_reply.started": "2021-10-03T02:55:47.876379Z"
    }
   },
   "outputs": [],
   "source": [
    "train_df = pd.read_csv(\"../input/sign-language-mnist/sign_mnist_train/sign_mnist_train.csv\")\n",
    "test_df = pd.read_csv(\"../input/sign-language-mnist/sign_mnist_test/sign_mnist_test.csv\")"
   ]
  },
  {
   "cell_type": "code",
   "execution_count": 44,
   "metadata": {
    "execution": {
     "iopub.execute_input": "2021-10-03T02:31:57.940444Z",
     "iopub.status.busy": "2021-10-03T02:31:57.940158Z",
     "iopub.status.idle": "2021-10-03T02:31:57.998401Z",
     "shell.execute_reply": "2021-10-03T02:31:57.997693Z",
     "shell.execute_reply.started": "2021-10-03T02:31:57.940409Z"
    }
   },
   "outputs": [
    {
     "name": "stdout",
     "output_type": "stream",
     "text": [
      "<class 'pandas.core.frame.DataFrame'>\n",
      "RangeIndex: 27455 entries, 0 to 27454\n",
      "Columns: 785 entries, label to pixel784\n",
      "dtypes: int64(785)\n",
      "memory usage: 164.4 MB\n"
     ]
    }
   ],
   "source": [
    "train_df.info()"
   ]
  },
  {
   "cell_type": "code",
   "execution_count": 5,
   "metadata": {
    "execution": {
     "iopub.execute_input": "2021-10-03T02:55:59.694091Z",
     "iopub.status.busy": "2021-10-03T02:55:59.693821Z",
     "iopub.status.idle": "2021-10-03T02:55:59.761454Z",
     "shell.execute_reply": "2021-10-03T02:55:59.760633Z",
     "shell.execute_reply.started": "2021-10-03T02:55:59.694062Z"
    }
   },
   "outputs": [
    {
     "name": "stdout",
     "output_type": "stream",
     "text": [
      "<class 'pandas.core.frame.DataFrame'>\n",
      "RangeIndex: 7172 entries, 0 to 7171\n",
      "Columns: 785 entries, label to pixel784\n",
      "dtypes: int64(785)\n",
      "memory usage: 43.0 MB\n"
     ]
    }
   ],
   "source": [
    "test_df.info()"
   ]
  },
  {
   "cell_type": "markdown",
   "metadata": {},
   "source": [
    "# Exploratory Data Analysis(EDA)\n",
    "\n",
    "![alt](https://2.bp.blogspot.com/-kuTY54z70KE/WJs5MW735qI/AAAAAAAAG7c/kfeK6bzIHIEeQgME1j-e-RfzlC0vse3igCLcB/s1600/SignLanguage.gif)"
   ]
  },
  {
   "cell_type": "code",
   "execution_count": 6,
   "metadata": {
    "execution": {
     "iopub.execute_input": "2021-10-03T02:56:05.032947Z",
     "iopub.status.busy": "2021-10-03T02:56:05.032630Z",
     "iopub.status.idle": "2021-10-03T02:56:07.432315Z",
     "shell.execute_reply": "2021-10-03T02:56:07.431484Z",
     "shell.execute_reply.started": "2021-10-03T02:56:05.032918Z"
    }
   },
   "outputs": [
    {
     "data": {
      "text/html": [
       "<div>\n",
       "<style scoped>\n",
       "    .dataframe tbody tr th:only-of-type {\n",
       "        vertical-align: middle;\n",
       "    }\n",
       "\n",
       "    .dataframe tbody tr th {\n",
       "        vertical-align: top;\n",
       "    }\n",
       "\n",
       "    .dataframe thead th {\n",
       "        text-align: right;\n",
       "    }\n",
       "</style>\n",
       "<table border=\"1\" class=\"dataframe\">\n",
       "  <thead>\n",
       "    <tr style=\"text-align: right;\">\n",
       "      <th></th>\n",
       "      <th>label</th>\n",
       "      <th>pixel1</th>\n",
       "      <th>pixel2</th>\n",
       "      <th>pixel3</th>\n",
       "      <th>pixel4</th>\n",
       "      <th>pixel5</th>\n",
       "      <th>pixel6</th>\n",
       "      <th>pixel7</th>\n",
       "      <th>pixel8</th>\n",
       "      <th>pixel9</th>\n",
       "      <th>...</th>\n",
       "      <th>pixel775</th>\n",
       "      <th>pixel776</th>\n",
       "      <th>pixel777</th>\n",
       "      <th>pixel778</th>\n",
       "      <th>pixel779</th>\n",
       "      <th>pixel780</th>\n",
       "      <th>pixel781</th>\n",
       "      <th>pixel782</th>\n",
       "      <th>pixel783</th>\n",
       "      <th>pixel784</th>\n",
       "    </tr>\n",
       "  </thead>\n",
       "  <tbody>\n",
       "    <tr>\n",
       "      <th>count</th>\n",
       "      <td>27455.000000</td>\n",
       "      <td>27455.000000</td>\n",
       "      <td>27455.000000</td>\n",
       "      <td>27455.000000</td>\n",
       "      <td>27455.000000</td>\n",
       "      <td>27455.000000</td>\n",
       "      <td>27455.000000</td>\n",
       "      <td>27455.000000</td>\n",
       "      <td>27455.000000</td>\n",
       "      <td>27455.000000</td>\n",
       "      <td>...</td>\n",
       "      <td>27455.000000</td>\n",
       "      <td>27455.000000</td>\n",
       "      <td>27455.000000</td>\n",
       "      <td>27455.000000</td>\n",
       "      <td>27455.000000</td>\n",
       "      <td>27455.000000</td>\n",
       "      <td>27455.000000</td>\n",
       "      <td>27455.000000</td>\n",
       "      <td>27455.000000</td>\n",
       "      <td>27455.000000</td>\n",
       "    </tr>\n",
       "    <tr>\n",
       "      <th>mean</th>\n",
       "      <td>12.318813</td>\n",
       "      <td>145.419377</td>\n",
       "      <td>148.500273</td>\n",
       "      <td>151.247714</td>\n",
       "      <td>153.546531</td>\n",
       "      <td>156.210891</td>\n",
       "      <td>158.411255</td>\n",
       "      <td>160.472154</td>\n",
       "      <td>162.339683</td>\n",
       "      <td>163.954799</td>\n",
       "      <td>...</td>\n",
       "      <td>141.104863</td>\n",
       "      <td>147.495611</td>\n",
       "      <td>153.325806</td>\n",
       "      <td>159.125332</td>\n",
       "      <td>161.969259</td>\n",
       "      <td>162.736696</td>\n",
       "      <td>162.906137</td>\n",
       "      <td>161.966454</td>\n",
       "      <td>161.137898</td>\n",
       "      <td>159.824731</td>\n",
       "    </tr>\n",
       "    <tr>\n",
       "      <th>std</th>\n",
       "      <td>7.287552</td>\n",
       "      <td>41.358555</td>\n",
       "      <td>39.942152</td>\n",
       "      <td>39.056286</td>\n",
       "      <td>38.595247</td>\n",
       "      <td>37.111165</td>\n",
       "      <td>36.125579</td>\n",
       "      <td>35.016392</td>\n",
       "      <td>33.661998</td>\n",
       "      <td>32.651607</td>\n",
       "      <td>...</td>\n",
       "      <td>63.751194</td>\n",
       "      <td>65.512894</td>\n",
       "      <td>64.427412</td>\n",
       "      <td>63.708507</td>\n",
       "      <td>63.738316</td>\n",
       "      <td>63.444008</td>\n",
       "      <td>63.509210</td>\n",
       "      <td>63.298721</td>\n",
       "      <td>63.610415</td>\n",
       "      <td>64.396846</td>\n",
       "    </tr>\n",
       "    <tr>\n",
       "      <th>min</th>\n",
       "      <td>0.000000</td>\n",
       "      <td>0.000000</td>\n",
       "      <td>0.000000</td>\n",
       "      <td>0.000000</td>\n",
       "      <td>0.000000</td>\n",
       "      <td>0.000000</td>\n",
       "      <td>0.000000</td>\n",
       "      <td>0.000000</td>\n",
       "      <td>0.000000</td>\n",
       "      <td>0.000000</td>\n",
       "      <td>...</td>\n",
       "      <td>0.000000</td>\n",
       "      <td>0.000000</td>\n",
       "      <td>0.000000</td>\n",
       "      <td>0.000000</td>\n",
       "      <td>0.000000</td>\n",
       "      <td>0.000000</td>\n",
       "      <td>0.000000</td>\n",
       "      <td>0.000000</td>\n",
       "      <td>0.000000</td>\n",
       "      <td>0.000000</td>\n",
       "    </tr>\n",
       "    <tr>\n",
       "      <th>25%</th>\n",
       "      <td>6.000000</td>\n",
       "      <td>121.000000</td>\n",
       "      <td>126.000000</td>\n",
       "      <td>130.000000</td>\n",
       "      <td>133.000000</td>\n",
       "      <td>137.000000</td>\n",
       "      <td>140.000000</td>\n",
       "      <td>142.000000</td>\n",
       "      <td>144.000000</td>\n",
       "      <td>146.000000</td>\n",
       "      <td>...</td>\n",
       "      <td>92.000000</td>\n",
       "      <td>96.000000</td>\n",
       "      <td>103.000000</td>\n",
       "      <td>112.000000</td>\n",
       "      <td>120.000000</td>\n",
       "      <td>125.000000</td>\n",
       "      <td>128.000000</td>\n",
       "      <td>128.000000</td>\n",
       "      <td>128.000000</td>\n",
       "      <td>125.500000</td>\n",
       "    </tr>\n",
       "    <tr>\n",
       "      <th>50%</th>\n",
       "      <td>13.000000</td>\n",
       "      <td>150.000000</td>\n",
       "      <td>153.000000</td>\n",
       "      <td>156.000000</td>\n",
       "      <td>158.000000</td>\n",
       "      <td>160.000000</td>\n",
       "      <td>162.000000</td>\n",
       "      <td>164.000000</td>\n",
       "      <td>165.000000</td>\n",
       "      <td>166.000000</td>\n",
       "      <td>...</td>\n",
       "      <td>144.000000</td>\n",
       "      <td>162.000000</td>\n",
       "      <td>172.000000</td>\n",
       "      <td>180.000000</td>\n",
       "      <td>183.000000</td>\n",
       "      <td>184.000000</td>\n",
       "      <td>184.000000</td>\n",
       "      <td>182.000000</td>\n",
       "      <td>182.000000</td>\n",
       "      <td>182.000000</td>\n",
       "    </tr>\n",
       "    <tr>\n",
       "      <th>75%</th>\n",
       "      <td>19.000000</td>\n",
       "      <td>174.000000</td>\n",
       "      <td>176.000000</td>\n",
       "      <td>178.000000</td>\n",
       "      <td>179.000000</td>\n",
       "      <td>181.000000</td>\n",
       "      <td>182.000000</td>\n",
       "      <td>183.000000</td>\n",
       "      <td>184.000000</td>\n",
       "      <td>185.000000</td>\n",
       "      <td>...</td>\n",
       "      <td>196.000000</td>\n",
       "      <td>202.000000</td>\n",
       "      <td>205.000000</td>\n",
       "      <td>207.000000</td>\n",
       "      <td>208.000000</td>\n",
       "      <td>207.000000</td>\n",
       "      <td>207.000000</td>\n",
       "      <td>206.000000</td>\n",
       "      <td>204.000000</td>\n",
       "      <td>204.000000</td>\n",
       "    </tr>\n",
       "    <tr>\n",
       "      <th>max</th>\n",
       "      <td>24.000000</td>\n",
       "      <td>255.000000</td>\n",
       "      <td>255.000000</td>\n",
       "      <td>255.000000</td>\n",
       "      <td>255.000000</td>\n",
       "      <td>255.000000</td>\n",
       "      <td>255.000000</td>\n",
       "      <td>255.000000</td>\n",
       "      <td>255.000000</td>\n",
       "      <td>255.000000</td>\n",
       "      <td>...</td>\n",
       "      <td>255.000000</td>\n",
       "      <td>255.000000</td>\n",
       "      <td>255.000000</td>\n",
       "      <td>255.000000</td>\n",
       "      <td>255.000000</td>\n",
       "      <td>255.000000</td>\n",
       "      <td>255.000000</td>\n",
       "      <td>255.000000</td>\n",
       "      <td>255.000000</td>\n",
       "      <td>255.000000</td>\n",
       "    </tr>\n",
       "  </tbody>\n",
       "</table>\n",
       "<p>8 rows × 785 columns</p>\n",
       "</div>"
      ],
      "text/plain": [
       "              label        pixel1        pixel2        pixel3        pixel4  \\\n",
       "count  27455.000000  27455.000000  27455.000000  27455.000000  27455.000000   \n",
       "mean      12.318813    145.419377    148.500273    151.247714    153.546531   \n",
       "std        7.287552     41.358555     39.942152     39.056286     38.595247   \n",
       "min        0.000000      0.000000      0.000000      0.000000      0.000000   \n",
       "25%        6.000000    121.000000    126.000000    130.000000    133.000000   \n",
       "50%       13.000000    150.000000    153.000000    156.000000    158.000000   \n",
       "75%       19.000000    174.000000    176.000000    178.000000    179.000000   \n",
       "max       24.000000    255.000000    255.000000    255.000000    255.000000   \n",
       "\n",
       "             pixel5        pixel6        pixel7        pixel8        pixel9  \\\n",
       "count  27455.000000  27455.000000  27455.000000  27455.000000  27455.000000   \n",
       "mean     156.210891    158.411255    160.472154    162.339683    163.954799   \n",
       "std       37.111165     36.125579     35.016392     33.661998     32.651607   \n",
       "min        0.000000      0.000000      0.000000      0.000000      0.000000   \n",
       "25%      137.000000    140.000000    142.000000    144.000000    146.000000   \n",
       "50%      160.000000    162.000000    164.000000    165.000000    166.000000   \n",
       "75%      181.000000    182.000000    183.000000    184.000000    185.000000   \n",
       "max      255.000000    255.000000    255.000000    255.000000    255.000000   \n",
       "\n",
       "       ...      pixel775      pixel776      pixel777      pixel778  \\\n",
       "count  ...  27455.000000  27455.000000  27455.000000  27455.000000   \n",
       "mean   ...    141.104863    147.495611    153.325806    159.125332   \n",
       "std    ...     63.751194     65.512894     64.427412     63.708507   \n",
       "min    ...      0.000000      0.000000      0.000000      0.000000   \n",
       "25%    ...     92.000000     96.000000    103.000000    112.000000   \n",
       "50%    ...    144.000000    162.000000    172.000000    180.000000   \n",
       "75%    ...    196.000000    202.000000    205.000000    207.000000   \n",
       "max    ...    255.000000    255.000000    255.000000    255.000000   \n",
       "\n",
       "           pixel779      pixel780      pixel781      pixel782      pixel783  \\\n",
       "count  27455.000000  27455.000000  27455.000000  27455.000000  27455.000000   \n",
       "mean     161.969259    162.736696    162.906137    161.966454    161.137898   \n",
       "std       63.738316     63.444008     63.509210     63.298721     63.610415   \n",
       "min        0.000000      0.000000      0.000000      0.000000      0.000000   \n",
       "25%      120.000000    125.000000    128.000000    128.000000    128.000000   \n",
       "50%      183.000000    184.000000    184.000000    182.000000    182.000000   \n",
       "75%      208.000000    207.000000    207.000000    206.000000    204.000000   \n",
       "max      255.000000    255.000000    255.000000    255.000000    255.000000   \n",
       "\n",
       "           pixel784  \n",
       "count  27455.000000  \n",
       "mean     159.824731  \n",
       "std       64.396846  \n",
       "min        0.000000  \n",
       "25%      125.500000  \n",
       "50%      182.000000  \n",
       "75%      204.000000  \n",
       "max      255.000000  \n",
       "\n",
       "[8 rows x 785 columns]"
      ]
     },
     "execution_count": 6,
     "metadata": {},
     "output_type": "execute_result"
    }
   ],
   "source": [
    "train_df.describe()"
   ]
  },
  {
   "cell_type": "code",
   "execution_count": 7,
   "metadata": {
    "execution": {
     "iopub.execute_input": "2021-10-03T02:56:12.725599Z",
     "iopub.status.busy": "2021-10-03T02:56:12.725308Z",
     "iopub.status.idle": "2021-10-03T02:56:12.748179Z",
     "shell.execute_reply": "2021-10-03T02:56:12.747161Z",
     "shell.execute_reply.started": "2021-10-03T02:56:12.725569Z"
    }
   },
   "outputs": [
    {
     "data": {
      "text/html": [
       "<div>\n",
       "<style scoped>\n",
       "    .dataframe tbody tr th:only-of-type {\n",
       "        vertical-align: middle;\n",
       "    }\n",
       "\n",
       "    .dataframe tbody tr th {\n",
       "        vertical-align: top;\n",
       "    }\n",
       "\n",
       "    .dataframe thead th {\n",
       "        text-align: right;\n",
       "    }\n",
       "</style>\n",
       "<table border=\"1\" class=\"dataframe\">\n",
       "  <thead>\n",
       "    <tr style=\"text-align: right;\">\n",
       "      <th></th>\n",
       "      <th>label</th>\n",
       "      <th>pixel1</th>\n",
       "      <th>pixel2</th>\n",
       "      <th>pixel3</th>\n",
       "      <th>pixel4</th>\n",
       "      <th>pixel5</th>\n",
       "      <th>pixel6</th>\n",
       "      <th>pixel7</th>\n",
       "      <th>pixel8</th>\n",
       "      <th>pixel9</th>\n",
       "      <th>...</th>\n",
       "      <th>pixel775</th>\n",
       "      <th>pixel776</th>\n",
       "      <th>pixel777</th>\n",
       "      <th>pixel778</th>\n",
       "      <th>pixel779</th>\n",
       "      <th>pixel780</th>\n",
       "      <th>pixel781</th>\n",
       "      <th>pixel782</th>\n",
       "      <th>pixel783</th>\n",
       "      <th>pixel784</th>\n",
       "    </tr>\n",
       "  </thead>\n",
       "  <tbody>\n",
       "    <tr>\n",
       "      <th>0</th>\n",
       "      <td>3</td>\n",
       "      <td>107</td>\n",
       "      <td>118</td>\n",
       "      <td>127</td>\n",
       "      <td>134</td>\n",
       "      <td>139</td>\n",
       "      <td>143</td>\n",
       "      <td>146</td>\n",
       "      <td>150</td>\n",
       "      <td>153</td>\n",
       "      <td>...</td>\n",
       "      <td>207</td>\n",
       "      <td>207</td>\n",
       "      <td>207</td>\n",
       "      <td>207</td>\n",
       "      <td>206</td>\n",
       "      <td>206</td>\n",
       "      <td>206</td>\n",
       "      <td>204</td>\n",
       "      <td>203</td>\n",
       "      <td>202</td>\n",
       "    </tr>\n",
       "    <tr>\n",
       "      <th>1</th>\n",
       "      <td>6</td>\n",
       "      <td>155</td>\n",
       "      <td>157</td>\n",
       "      <td>156</td>\n",
       "      <td>156</td>\n",
       "      <td>156</td>\n",
       "      <td>157</td>\n",
       "      <td>156</td>\n",
       "      <td>158</td>\n",
       "      <td>158</td>\n",
       "      <td>...</td>\n",
       "      <td>69</td>\n",
       "      <td>149</td>\n",
       "      <td>128</td>\n",
       "      <td>87</td>\n",
       "      <td>94</td>\n",
       "      <td>163</td>\n",
       "      <td>175</td>\n",
       "      <td>103</td>\n",
       "      <td>135</td>\n",
       "      <td>149</td>\n",
       "    </tr>\n",
       "    <tr>\n",
       "      <th>2</th>\n",
       "      <td>2</td>\n",
       "      <td>187</td>\n",
       "      <td>188</td>\n",
       "      <td>188</td>\n",
       "      <td>187</td>\n",
       "      <td>187</td>\n",
       "      <td>186</td>\n",
       "      <td>187</td>\n",
       "      <td>188</td>\n",
       "      <td>187</td>\n",
       "      <td>...</td>\n",
       "      <td>202</td>\n",
       "      <td>201</td>\n",
       "      <td>200</td>\n",
       "      <td>199</td>\n",
       "      <td>198</td>\n",
       "      <td>199</td>\n",
       "      <td>198</td>\n",
       "      <td>195</td>\n",
       "      <td>194</td>\n",
       "      <td>195</td>\n",
       "    </tr>\n",
       "    <tr>\n",
       "      <th>3</th>\n",
       "      <td>2</td>\n",
       "      <td>211</td>\n",
       "      <td>211</td>\n",
       "      <td>212</td>\n",
       "      <td>212</td>\n",
       "      <td>211</td>\n",
       "      <td>210</td>\n",
       "      <td>211</td>\n",
       "      <td>210</td>\n",
       "      <td>210</td>\n",
       "      <td>...</td>\n",
       "      <td>235</td>\n",
       "      <td>234</td>\n",
       "      <td>233</td>\n",
       "      <td>231</td>\n",
       "      <td>230</td>\n",
       "      <td>226</td>\n",
       "      <td>225</td>\n",
       "      <td>222</td>\n",
       "      <td>229</td>\n",
       "      <td>163</td>\n",
       "    </tr>\n",
       "    <tr>\n",
       "      <th>4</th>\n",
       "      <td>13</td>\n",
       "      <td>164</td>\n",
       "      <td>167</td>\n",
       "      <td>170</td>\n",
       "      <td>172</td>\n",
       "      <td>176</td>\n",
       "      <td>179</td>\n",
       "      <td>180</td>\n",
       "      <td>184</td>\n",
       "      <td>185</td>\n",
       "      <td>...</td>\n",
       "      <td>92</td>\n",
       "      <td>105</td>\n",
       "      <td>105</td>\n",
       "      <td>108</td>\n",
       "      <td>133</td>\n",
       "      <td>163</td>\n",
       "      <td>157</td>\n",
       "      <td>163</td>\n",
       "      <td>164</td>\n",
       "      <td>179</td>\n",
       "    </tr>\n",
       "    <tr>\n",
       "      <th>5</th>\n",
       "      <td>16</td>\n",
       "      <td>161</td>\n",
       "      <td>168</td>\n",
       "      <td>172</td>\n",
       "      <td>173</td>\n",
       "      <td>178</td>\n",
       "      <td>184</td>\n",
       "      <td>189</td>\n",
       "      <td>193</td>\n",
       "      <td>196</td>\n",
       "      <td>...</td>\n",
       "      <td>76</td>\n",
       "      <td>74</td>\n",
       "      <td>68</td>\n",
       "      <td>62</td>\n",
       "      <td>53</td>\n",
       "      <td>55</td>\n",
       "      <td>48</td>\n",
       "      <td>238</td>\n",
       "      <td>255</td>\n",
       "      <td>255</td>\n",
       "    </tr>\n",
       "    <tr>\n",
       "      <th>6</th>\n",
       "      <td>8</td>\n",
       "      <td>134</td>\n",
       "      <td>134</td>\n",
       "      <td>135</td>\n",
       "      <td>135</td>\n",
       "      <td>136</td>\n",
       "      <td>137</td>\n",
       "      <td>137</td>\n",
       "      <td>138</td>\n",
       "      <td>138</td>\n",
       "      <td>...</td>\n",
       "      <td>109</td>\n",
       "      <td>102</td>\n",
       "      <td>91</td>\n",
       "      <td>65</td>\n",
       "      <td>138</td>\n",
       "      <td>189</td>\n",
       "      <td>179</td>\n",
       "      <td>181</td>\n",
       "      <td>181</td>\n",
       "      <td>179</td>\n",
       "    </tr>\n",
       "  </tbody>\n",
       "</table>\n",
       "<p>7 rows × 785 columns</p>\n",
       "</div>"
      ],
      "text/plain": [
       "   label  pixel1  pixel2  pixel3  pixel4  pixel5  pixel6  pixel7  pixel8  \\\n",
       "0      3     107     118     127     134     139     143     146     150   \n",
       "1      6     155     157     156     156     156     157     156     158   \n",
       "2      2     187     188     188     187     187     186     187     188   \n",
       "3      2     211     211     212     212     211     210     211     210   \n",
       "4     13     164     167     170     172     176     179     180     184   \n",
       "5     16     161     168     172     173     178     184     189     193   \n",
       "6      8     134     134     135     135     136     137     137     138   \n",
       "\n",
       "   pixel9  ...  pixel775  pixel776  pixel777  pixel778  pixel779  pixel780  \\\n",
       "0     153  ...       207       207       207       207       206       206   \n",
       "1     158  ...        69       149       128        87        94       163   \n",
       "2     187  ...       202       201       200       199       198       199   \n",
       "3     210  ...       235       234       233       231       230       226   \n",
       "4     185  ...        92       105       105       108       133       163   \n",
       "5     196  ...        76        74        68        62        53        55   \n",
       "6     138  ...       109       102        91        65       138       189   \n",
       "\n",
       "   pixel781  pixel782  pixel783  pixel784  \n",
       "0       206       204       203       202  \n",
       "1       175       103       135       149  \n",
       "2       198       195       194       195  \n",
       "3       225       222       229       163  \n",
       "4       157       163       164       179  \n",
       "5        48       238       255       255  \n",
       "6       179       181       181       179  \n",
       "\n",
       "[7 rows x 785 columns]"
      ]
     },
     "execution_count": 7,
     "metadata": {},
     "output_type": "execute_result"
    }
   ],
   "source": [
    "train_df.head(7)"
   ]
  },
  {
   "cell_type": "code",
   "execution_count": 8,
   "metadata": {
    "execution": {
     "iopub.execute_input": "2021-10-03T02:56:26.706455Z",
     "iopub.status.busy": "2021-10-03T02:56:26.706155Z",
     "iopub.status.idle": "2021-10-03T02:56:27.461955Z",
     "shell.execute_reply": "2021-10-03T02:56:27.461294Z",
     "shell.execute_reply.started": "2021-10-03T02:56:26.706409Z"
    }
   },
   "outputs": [],
   "source": [
    "test = pd.read_csv(\"../input/sign-language-mnist/sign_mnist_test/sign_mnist_test.csv\")\n",
    "y = test['label']"
   ]
  },
  {
   "cell_type": "code",
   "execution_count": 11,
   "metadata": {
    "execution": {
     "iopub.execute_input": "2021-10-03T02:57:21.760633Z",
     "iopub.status.busy": "2021-10-03T02:57:21.760324Z",
     "iopub.status.idle": "2021-10-03T02:57:21.833554Z",
     "shell.execute_reply": "2021-10-03T02:57:21.832663Z",
     "shell.execute_reply.started": "2021-10-03T02:57:21.760603Z"
    }
   },
   "outputs": [],
   "source": [
    "y_train = train_df['label']\n",
    "y_test = test_df['label']\n",
    "del train_df['label']\n",
    "del test_df['label']"
   ]
  },
  {
   "cell_type": "markdown",
   "metadata": {},
   "source": [
    "## Data Preprocessing"
   ]
  },
  {
   "cell_type": "code",
   "execution_count": 12,
   "metadata": {
    "execution": {
     "iopub.execute_input": "2021-10-03T02:57:24.101009Z",
     "iopub.status.busy": "2021-10-03T02:57:24.100712Z",
     "iopub.status.idle": "2021-10-03T02:57:24.118616Z",
     "shell.execute_reply": "2021-10-03T02:57:24.117769Z",
     "shell.execute_reply.started": "2021-10-03T02:57:24.100979Z"
    }
   },
   "outputs": [],
   "source": [
    "from sklearn.preprocessing import LabelBinarizer\n",
    "label_binarizer = LabelBinarizer()\n",
    "y_train = label_binarizer.fit_transform(y_train)\n",
    "y_test = label_binarizer.fit_transform(y_test)"
   ]
  },
  {
   "cell_type": "code",
   "execution_count": 14,
   "metadata": {
    "execution": {
     "iopub.execute_input": "2021-10-03T02:58:50.054612Z",
     "iopub.status.busy": "2021-10-03T02:58:50.054325Z",
     "iopub.status.idle": "2021-10-03T02:58:50.059093Z",
     "shell.execute_reply": "2021-10-03T02:58:50.058310Z",
     "shell.execute_reply.started": "2021-10-03T02:58:50.054582Z"
    }
   },
   "outputs": [],
   "source": [
    "x_train = train_df.values\n",
    "x_test = test_df.values"
   ]
  },
  {
   "cell_type": "markdown",
   "metadata": {},
   "source": [
    "### (a) Normalize the Data"
   ]
  },
  {
   "cell_type": "code",
   "execution_count": 15,
   "metadata": {
    "execution": {
     "iopub.execute_input": "2021-10-03T02:58:54.893289Z",
     "iopub.status.busy": "2021-10-03T02:58:54.893013Z",
     "iopub.status.idle": "2021-10-03T02:58:54.995373Z",
     "shell.execute_reply": "2021-10-03T02:58:54.994405Z",
     "shell.execute_reply.started": "2021-10-03T02:58:54.893254Z"
    }
   },
   "outputs": [],
   "source": [
    "x_train = x_train / 255\n",
    "x_test = x_test / 255"
   ]
  },
  {
   "cell_type": "markdown",
   "metadata": {},
   "source": [
    "### (b)Reshaping the data from 1-D to 3-D as required through input by CNN's"
   ]
  },
  {
   "cell_type": "code",
   "execution_count": 16,
   "metadata": {
    "execution": {
     "iopub.execute_input": "2021-10-03T02:59:00.974142Z",
     "iopub.status.busy": "2021-10-03T02:59:00.973863Z",
     "iopub.status.idle": "2021-10-03T02:59:00.981596Z",
     "shell.execute_reply": "2021-10-03T02:59:00.977957Z",
     "shell.execute_reply.started": "2021-10-03T02:59:00.974113Z"
    }
   },
   "outputs": [],
   "source": [
    "x_train = x_train.reshape(-1,28,28,1)\n",
    "x_test = x_test.reshape(-1,28,28,1)"
   ]
  },
  {
   "cell_type": "code",
   "execution_count": 10,
   "metadata": {
    "execution": {
     "iopub.execute_input": "2021-10-03T02:57:14.216180Z",
     "iopub.status.busy": "2021-10-03T02:57:14.215917Z",
     "iopub.status.idle": "2021-10-03T02:57:14.614385Z",
     "shell.execute_reply": "2021-10-03T02:57:14.613717Z",
     "shell.execute_reply.started": "2021-10-03T02:57:14.216151Z"
    }
   },
   "outputs": [
    {
     "data": {
      "text/plain": [
       "Text(0.5, 1.0, 'Frequency of each label')"
      ]
     },
     "execution_count": 10,
     "metadata": {},
     "output_type": "execute_result"
    },
    {
     "data": {
      "image/png": "[encoded data removed]",
      "text/plain": [
       "<Figure size 720x720 with 1 Axes>"
      ]
     },
     "metadata": {},
     "output_type": "display_data"
    }
   ],
   "source": [
    "plt.figure(figsize = (10,10)) # Label Count\n",
    "sns.set_style(\"darkgrid\")\n",
    "sns.countplot(train_df['label'])\n",
    "plt.title(\"Frequency of each label\")"
   ]
  },
  {
   "cell_type": "code",
   "execution_count": 54,
   "metadata": {
    "execution": {
     "iopub.execute_input": "2021-10-03T02:32:01.270012Z",
     "iopub.status.busy": "2021-10-03T02:32:01.269716Z",
     "iopub.status.idle": "2021-10-03T02:32:02.014472Z",
     "shell.execute_reply": "2021-10-03T02:32:02.013724Z",
     "shell.execute_reply.started": "2021-10-03T02:32:01.269976Z"
    }
   },
   "outputs": [
    {
     "data": {
      "text/plain": [
       "Text(0.5, 1.0, 'label: 13  letter: M')"
      ]
     },
     "execution_count": 54,
     "metadata": {},
     "output_type": "execute_result"
    },
    {
     "data": {
      "image/png": "[encoded data removed]",
      "text/plain": [
       "<Figure size 432x288 with 4 Axes>"
      ]
     },
     "metadata": {},
     "output_type": "display_data"
    }
   ],
   "source": [
    "fig,axe=plt.subplots(2,2)\n",
    "fig.suptitle('Preview of dataset')\n",
    "axe[0,0].imshow(x_train[0].reshape(28,28),cmap='gray')\n",
    "axe[0,0].set_title('label: 3  letter: C')\n",
    "axe[0,1].imshow(x_train[1].reshape(28,28),cmap='gray')\n",
    "axe[0,1].set_title('label: 6  letter: F')\n",
    "axe[1,0].imshow(x_train[2].reshape(28,28),cmap='gray')\n",
    "axe[1,0].set_title('label: 2  letter: B')\n",
    "axe[1,1].imshow(x_train[4].reshape(28,28),cmap='gray')\n",
    "axe[1,1].set_title('label: 13  letter: M')"
   ]
  },
  {
   "cell_type": "markdown",
   "metadata": {},
   "source": [
    "# Data Augmentation\n",
    "<font color='green'>**In order to avoid overfitting problem, we need to expand artificially our dataset. We can make your existing dataset even larger. The idea is to alter the training data with small transformations to reproduce the variations.**</font>\n",
    "\n",
    "<font color='green'>**Approaches that alter the training data in ways that change the array representation while keeping the label the same are known as data augmentation techniques. Some popular augmentations people use are grayscales, horizontal flips, vertical flips, random crops, color jitters, translations, rotations, and much more.**</font>\n",
    "\n",
    "<font color='green'>**By applying just a couple of these transformations to our training data, we can easily double or triple the number of training examples and create a very robust model.**</font>"
   ]
  },
  {
   "cell_type": "code",
   "execution_count": 29,
   "metadata": {
    "execution": {
     "iopub.execute_input": "2021-10-03T03:13:38.247777Z",
     "iopub.status.busy": "2021-10-03T03:13:38.247500Z",
     "iopub.status.idle": "2021-10-03T03:13:38.316315Z",
     "shell.execute_reply": "2021-10-03T03:13:38.315618Z",
     "shell.execute_reply.started": "2021-10-03T03:13:38.247738Z"
    }
   },
   "outputs": [],
   "source": [
    "# With data augmentation to prevent overfitting\n",
    "\n",
    "datagen = ImageDataGenerator(\n",
    "        featurewise_center=False,  # set input mean to 0 over the dataset\n",
    "        samplewise_center=False,  # set each sample mean to 0\n",
    "        featurewise_std_normalization=False,  # divide inputs by std of the dataset\n",
    "        samplewise_std_normalization=False,  # divide each input by its std\n",
    "        zca_whitening=False,  # apply ZCA whitening\n",
    "        rotation_range=10,  # randomly rotate images in the range (degrees, 0 to 180)\n",
    "        zoom_range = 0.1, # Randomly zoom image \n",
    "        width_shift_range=0.1,  # randomly shift images horizontally (fraction of total width)\n",
    "        height_shift_range=0.1,  # randomly shift images vertically (fraction of total height)\n",
    "        horizontal_flip=False,  # randomly flip images\n",
    "        vertical_flip=False)  # randomly flip images\n",
    "\n",
    "\n",
    "datagen.fit(x_train)"
   ]
  },
  {
   "cell_type": "markdown",
   "metadata": {},
   "source": [
    "For the data augmentation, i choosed to :\n",
    "\n",
    "Randomly rotate some training images by 10 degrees\n",
    "Randomly Zoom by 10% some training images\n",
    "Randomly shift images horizontally by 10% of the width\n",
    "Randomly shift images vertically by 10% of the height\n",
    "I did not apply a vertical_flip nor horizontal_flip since it could have lead to misclassify.\n",
    "\n",
    "Once our model is ready, we fit the training dataset ."
   ]
  },
  {
   "cell_type": "code",
   "execution_count": 56,
   "metadata": {
    "execution": {
     "iopub.execute_input": "2021-10-03T03:29:39.918129Z",
     "iopub.status.busy": "2021-10-03T03:29:39.917817Z",
     "iopub.status.idle": "2021-10-03T03:29:39.927056Z",
     "shell.execute_reply": "2021-10-03T03:29:39.924319Z",
     "shell.execute_reply.started": "2021-10-03T03:29:39.918098Z"
    }
   },
   "outputs": [],
   "source": [
    " checkpoint_filepath = 'best_model.hdf5'\n",
    "\n",
    "callback_checkpoint = ModelCheckpoint(filepath=checkpoint_filepath, save_weights_only=False, monitor='val_accuracy', mode='max', save_best_only=True)\n",
    "callback_learningrate = ReduceLROnPlateau(monitor='loss', mode='min', min_delta=0.01, patience=3, factor=.75, min_lr=0.00001, verbose=1)\n",
    "\n",
    "callbacks = [callback_checkpoint, callback_learningrate]"
   ]
  },
  {
   "cell_type": "markdown",
   "metadata": {},
   "source": [
    "# Convolution Neural Networks\n",
    "\n",
    "CNNs are a deep learning algorithm that takes in an input image and assigns importance to various aspects in the image. It captures the spatial and temporal dependencies of the image. Each CNN layer learn filters of increasing complexity.\n",
    "\n",
    "- **The first layers learn basic feature detection filters like edges, corners.**\n",
    "- **The middle layer learn filters that detect parts of objects.**\n",
    "- **The last layers have higher representationsthey learn to recognize full objects in different shapes and positions.**\n",
    "\n",
    "<font color='blue'>**We experimented by building a deep CNN for the purpose of classification. The overview of our architecture is we have Convolutional layers to learn the features of the images, each followed by Max Pool layers to reduce the number of parameters to learn and also to help in translation invariance.**</font>  \n",
    "* **The Network takes an input image, and uses a filter (or kernel) to create a feature map describing the image.**\n",
    "* **In the convolution operation, we take a filter (usually 2x2 or 3x3 matrix ) and slide it over the image matrix. The coresponding numbers in both matrices are multiplied and and added to yield a single number describing that input space. This process is repeated all over the image.This working can be seen in the following figure**\n",
    "![ChessUrl](https://brandinho.github.io/images/ConvNet.gif \"chess\")"
   ]
  },
  {
   "cell_type": "code",
   "execution_count": 37,
   "metadata": {
    "execution": {
     "iopub.execute_input": "2021-10-03T03:20:16.408953Z",
     "iopub.status.busy": "2021-10-03T03:20:16.408679Z",
     "iopub.status.idle": "2021-10-03T03:20:16.413417Z",
     "shell.execute_reply": "2021-10-03T03:20:16.412661Z",
     "shell.execute_reply.started": "2021-10-03T03:20:16.408927Z"
    }
   },
   "outputs": [],
   "source": [
    "learning_rate_reduction = ReduceLROnPlateau(monitor='val_accuracy', patience = 2, verbose=1,factor=0.5, min_lr=0.00001)"
   ]
  },
  {
   "cell_type": "code",
   "execution_count": 41,
   "metadata": {
    "execution": {
     "iopub.execute_input": "2021-10-03T03:21:42.370851Z",
     "iopub.status.busy": "2021-10-03T03:21:42.370577Z",
     "iopub.status.idle": "2021-10-03T03:21:42.415316Z",
     "shell.execute_reply": "2021-10-03T03:21:42.414491Z",
     "shell.execute_reply.started": "2021-10-03T03:21:42.370822Z"
    }
   },
   "outputs": [],
   "source": [
    "model=Sequential()\n",
    "model.add(Conv2D(128,kernel_size=(5,5),\n",
    "                 strides=1,padding='same',activation='relu',input_shape=(28,28,1)))\n",
    "model.add(MaxPool2D(pool_size=(3,3),strides=2,padding='same'))\n",
    "model.add(Conv2D(64,kernel_size=(2,2),\n",
    "                strides=1,activation='relu',padding='same'))\n",
    "model.add(MaxPool2D((2,2),2,padding='same'))\n",
    "model.add(Conv2D(32,kernel_size=(2,2),\n",
    "                strides=1,activation='relu',padding='same'))\n",
    "model.add(MaxPool2D((2,2),2,padding='same'))\n",
    "          \n",
    "model.add(Flatten())"
   ]
  },
  {
   "cell_type": "code",
   "execution_count": 42,
   "metadata": {
    "execution": {
     "iopub.execute_input": "2021-10-03T03:21:44.706617Z",
     "iopub.status.busy": "2021-10-03T03:21:44.706325Z",
     "iopub.status.idle": "2021-10-03T03:21:44.745303Z",
     "shell.execute_reply": "2021-10-03T03:21:44.742558Z",
     "shell.execute_reply.started": "2021-10-03T03:21:44.706589Z"
    }
   },
   "outputs": [
    {
     "name": "stdout",
     "output_type": "stream",
     "text": [
      "Model: \"sequential_2\"\n",
      "_________________________________________________________________\n",
      "Layer (type)                 Output Shape              Param #   \n",
      "=================================================================\n",
      "conv2d_4 (Conv2D)            (None, 28, 28, 128)       3328      \n",
      "_________________________________________________________________\n",
      "max_pooling2d_4 (MaxPooling2 (None, 14, 14, 128)       0         \n",
      "_________________________________________________________________\n",
      "conv2d_5 (Conv2D)            (None, 14, 14, 64)        32832     \n",
      "_________________________________________________________________\n",
      "max_pooling2d_5 (MaxPooling2 (None, 7, 7, 64)          0         \n",
      "_________________________________________________________________\n",
      "conv2d_6 (Conv2D)            (None, 7, 7, 32)          8224      \n",
      "_________________________________________________________________\n",
      "max_pooling2d_6 (MaxPooling2 (None, 4, 4, 32)          0         \n",
      "_________________________________________________________________\n",
      "flatten_2 (Flatten)          (None, 512)               0         \n",
      "_________________________________________________________________\n",
      "dense_3 (Dense)              (None, 512)               262656    \n",
      "_________________________________________________________________\n",
      "dropout_2 (Dropout)          (None, 512)               0         \n",
      "_________________________________________________________________\n",
      "dense_4 (Dense)              (None, 24)                12312     \n",
      "=================================================================\n",
      "Total params: 319,352\n",
      "Trainable params: 319,352\n",
      "Non-trainable params: 0\n",
      "_________________________________________________________________\n"
     ]
    }
   ],
   "source": [
    "model.add(Dense(units=512,activation='relu'))\n",
    "model.add(Dropout(rate=0.25))\n",
    "model.add(Dense(units=24,activation='softmax'))\n",
    "model.summary()"
   ]
  },
  {
   "cell_type": "markdown",
   "metadata": {},
   "source": [
    "## Model Optimization\n",
    "\n",
    "**Adam provides an optimization algorithm that can handle sparse gradients on noisy problems. We chose Adam because it is\n",
    "computationally effective and requires little memory space.**"
   ]
  },
  {
   "cell_type": "code",
   "execution_count": 44,
   "metadata": {
    "execution": {
     "iopub.execute_input": "2021-10-03T03:22:23.190249Z",
     "iopub.status.busy": "2021-10-03T03:22:23.189970Z",
     "iopub.status.idle": "2021-10-03T03:22:23.243267Z",
     "shell.execute_reply": "2021-10-03T03:22:23.242619Z",
     "shell.execute_reply.started": "2021-10-03T03:22:23.190220Z"
    }
   },
   "outputs": [],
   "source": [
    "model.compile(optimizer='adam',loss='categorical_crossentropy',metrics=['accuracy'])"
   ]
  },
  {
   "cell_type": "code",
   "execution_count": 45,
   "metadata": {
    "execution": {
     "iopub.execute_input": "2021-10-03T03:22:25.151877Z",
     "iopub.status.busy": "2021-10-03T03:22:25.151462Z",
     "iopub.status.idle": "2021-10-03T03:25:10.750632Z",
     "shell.execute_reply": "2021-10-03T03:25:10.749533Z",
     "shell.execute_reply.started": "2021-10-03T03:22:25.151833Z"
    }
   },
   "outputs": [
    {
     "name": "stdout",
     "output_type": "stream",
     "text": [
      "Epoch 1/20\n",
      "215/215 [==============================] - 11s 52ms/step - loss: 2.2382 - accuracy: 0.3146 - val_loss: 0.9701 - val_accuracy: 0.6847\n",
      "Epoch 2/20\n",
      "215/215 [==============================] - 8s 38ms/step - loss: 0.8344 - accuracy: 0.7199 - val_loss: 0.3737 - val_accuracy: 0.8744\n",
      "Epoch 3/20\n",
      "215/215 [==============================] - 8s 36ms/step - loss: 0.4730 - accuracy: 0.8424 - val_loss: 0.2358 - val_accuracy: 0.9241\n",
      "Epoch 4/20\n",
      "215/215 [==============================] - 8s 39ms/step - loss: 0.2994 - accuracy: 0.9003 - val_loss: 0.1570 - val_accuracy: 0.9579\n",
      "Epoch 5/20\n",
      "215/215 [==============================] - 8s 38ms/step - loss: 0.2151 - accuracy: 0.9288 - val_loss: 0.1247 - val_accuracy: 0.9633\n",
      "Epoch 6/20\n",
      "215/215 [==============================] - 8s 36ms/step - loss: 0.1548 - accuracy: 0.9482 - val_loss: 0.0993 - val_accuracy: 0.9720\n",
      "Epoch 7/20\n",
      "215/215 [==============================] - 8s 37ms/step - loss: 0.1200 - accuracy: 0.9620 - val_loss: 0.0885 - val_accuracy: 0.9774\n",
      "Epoch 8/20\n",
      "215/215 [==============================] - 9s 40ms/step - loss: 0.0991 - accuracy: 0.9661 - val_loss: 0.0713 - val_accuracy: 0.9738\n",
      "Epoch 9/20\n",
      "215/215 [==============================] - 8s 38ms/step - loss: 0.0851 - accuracy: 0.9726 - val_loss: 0.0564 - val_accuracy: 0.9869\n",
      "Epoch 10/20\n",
      "215/215 [==============================] - 8s 36ms/step - loss: 0.0754 - accuracy: 0.9751 - val_loss: 0.0422 - val_accuracy: 0.9886\n",
      "Epoch 11/20\n",
      "215/215 [==============================] - 8s 37ms/step - loss: 0.0630 - accuracy: 0.9791 - val_loss: 0.0579 - val_accuracy: 0.9868\n",
      "Epoch 12/20\n",
      "215/215 [==============================] - 9s 40ms/step - loss: 0.0588 - accuracy: 0.9799 - val_loss: 0.0529 - val_accuracy: 0.9877\n",
      "\n",
      "Epoch 00012: ReduceLROnPlateau reducing learning rate to 0.0005000000237487257.\n",
      "Epoch 13/20\n",
      "215/215 [==============================] - 8s 38ms/step - loss: 0.0364 - accuracy: 0.9883 - val_loss: 0.0365 - val_accuracy: 0.9937\n",
      "Epoch 14/20\n",
      "215/215 [==============================] - 8s 35ms/step - loss: 0.0251 - accuracy: 0.9920 - val_loss: 0.0385 - val_accuracy: 0.9933\n",
      "Epoch 15/20\n",
      "215/215 [==============================] - 8s 37ms/step - loss: 0.0283 - accuracy: 0.9913 - val_loss: 0.0264 - val_accuracy: 0.9905\n",
      "\n",
      "Epoch 00015: ReduceLROnPlateau reducing learning rate to 0.0002500000118743628.\n",
      "Epoch 16/20\n",
      "215/215 [==============================] - 9s 41ms/step - loss: 0.0218 - accuracy: 0.9932 - val_loss: 0.0306 - val_accuracy: 0.9916\n",
      "Epoch 17/20\n",
      "215/215 [==============================] - 8s 37ms/step - loss: 0.0200 - accuracy: 0.9935 - val_loss: 0.0421 - val_accuracy: 0.9933\n",
      "\n",
      "Epoch 00017: ReduceLROnPlateau reducing learning rate to 0.0001250000059371814.\n",
      "Epoch 18/20\n",
      "215/215 [==============================] - 8s 36ms/step - loss: 0.0158 - accuracy: 0.9957 - val_loss: 0.0392 - val_accuracy: 0.9925\n",
      "Epoch 19/20\n",
      "215/215 [==============================] - 8s 37ms/step - loss: 0.0155 - accuracy: 0.9953 - val_loss: 0.0441 - val_accuracy: 0.9911\n",
      "\n",
      "Epoch 00019: ReduceLROnPlateau reducing learning rate to 6.25000029685907e-05.\n",
      "Epoch 20/20\n",
      "215/215 [==============================] - 8s 38ms/step - loss: 0.0129 - accuracy: 0.9963 - val_loss: 0.0423 - val_accuracy: 0.9923\n"
     ]
    }
   ],
   "source": [
    "history = model.fit(datagen.flow(x_train,y_train, batch_size = 128) ,epochs = 20 , validation_data = (x_test, y_test) , callbacks = [learning_rate_reduction])"
   ]
  },
  {
   "cell_type": "code",
   "execution_count": 47,
   "metadata": {
    "execution": {
     "iopub.execute_input": "2021-10-03T03:25:59.986834Z",
     "iopub.status.busy": "2021-10-03T03:25:59.986534Z",
     "iopub.status.idle": "2021-10-03T03:26:00.579207Z",
     "shell.execute_reply": "2021-10-03T03:26:00.578561Z",
     "shell.execute_reply.started": "2021-10-03T03:25:59.986805Z"
    }
   },
   "outputs": [
    {
     "name": "stdout",
     "output_type": "stream",
     "text": [
      "7172/7172 [==============================] - 1s 81us/step\n"
     ]
    }
   ],
   "source": [
    "(ls,acc)=model.evaluate(x=x_test,y=y_test)"
   ]
  },
  {
   "cell_type": "code",
   "execution_count": 48,
   "metadata": {
    "execution": {
     "iopub.execute_input": "2021-10-03T03:26:04.557410Z",
     "iopub.status.busy": "2021-10-03T03:26:04.557056Z",
     "iopub.status.idle": "2021-10-03T03:26:05.119618Z",
     "shell.execute_reply": "2021-10-03T03:26:05.118533Z",
     "shell.execute_reply.started": "2021-10-03T03:26:04.557374Z"
    }
   },
   "outputs": [
    {
     "name": "stdout",
     "output_type": "stream",
     "text": [
      "7172/7172 [==============================] - 1s 77us/step\n",
      "Accuracy of the model is -  99.23312664031982 %\n"
     ]
    }
   ],
   "source": [
    "print(\"Accuracy of the model is - \" , model.evaluate(x_test,y_test)[1]*100 , \"%\")"
   ]
  },
  {
   "cell_type": "markdown",
   "metadata": {},
   "source": [
    "# Data Evaluation and Analysis"
   ]
  },
  {
   "cell_type": "code",
   "execution_count": 49,
   "metadata": {
    "execution": {
     "iopub.execute_input": "2021-10-03T03:26:50.535255Z",
     "iopub.status.busy": "2021-10-03T03:26:50.534966Z",
     "iopub.status.idle": "2021-10-03T03:26:51.068358Z",
     "shell.execute_reply": "2021-10-03T03:26:51.067348Z",
     "shell.execute_reply.started": "2021-10-03T03:26:50.535226Z"
    }
   },
   "outputs": [
    {
     "data": {
      "image/png": "[encoded data removed]",
      "text/plain": [
       "<Figure size 1080x1080 with 2 Axes>"
      ]
     },
     "metadata": {},
     "output_type": "display_data"
    }
   ],
   "source": [
    "acc = history.history['accuracy']\n",
    "val_acc = history.history['val_accuracy']\n",
    "loss = history.history['loss']\n",
    "val_loss = history.history['val_loss']\n",
    "epochs_range = range(len(acc))\n",
    "\n",
    "plt.figure(figsize=(15, 15))\n",
    "plt.subplot(2, 2, 1)\n",
    "plt.plot(epochs_range, acc, label='Training Accuracy')\n",
    "plt.plot(epochs_range, val_acc, label='Validation Accuracy')\n",
    "plt.legend(loc='lower right')\n",
    "plt.title('Training and Validation Accuracy')\n",
    "\n",
    "plt.subplot(2, 2, 2)\n",
    "plt.plot(epochs_range, loss, label='Training Loss')\n",
    "plt.plot(epochs_range, val_loss, label='Validation Loss')\n",
    "plt.legend(loc='upper right')\n",
    "plt.title('Training and Validation Loss')\n",
    "plt.show()"
   ]
  },
  {
   "cell_type": "code",
   "execution_count": 60,
   "metadata": {
    "execution": {
     "iopub.execute_input": "2021-10-03T03:32:54.302712Z",
     "iopub.status.busy": "2021-10-03T03:32:54.302405Z",
     "iopub.status.idle": "2021-10-03T03:32:55.082158Z",
     "shell.execute_reply": "2021-10-03T03:32:55.081487Z",
     "shell.execute_reply.started": "2021-10-03T03:32:54.302684Z"
    }
   },
   "outputs": [],
   "source": [
    "size  = 28\n",
    "channels = 1\n",
    "df_test = pd.read_csv('../input/sign-language-mnist/sign_mnist_test/sign_mnist_test.csv')\n",
    "y_test = df_test['label']\n",
    "df_test.drop(['label'], axis=1, inplace=True)\n",
    "x_test = df_test.values.reshape(df_test.shape[0], size, size, channels)"
   ]
  },
  {
   "cell_type": "code",
   "execution_count": 63,
   "metadata": {
    "execution": {
     "iopub.execute_input": "2021-10-03T03:33:32.210684Z",
     "iopub.status.busy": "2021-10-03T03:33:32.210357Z",
     "iopub.status.idle": "2021-10-03T03:33:32.696344Z",
     "shell.execute_reply": "2021-10-03T03:33:32.695387Z",
     "shell.execute_reply.started": "2021-10-03T03:33:32.210653Z"
    }
   },
   "outputs": [],
   "source": [
    "y_pred = np.argmax(model.predict(x_test),axis = 1)"
   ]
  },
  {
   "cell_type": "code",
   "execution_count": 64,
   "metadata": {
    "execution": {
     "iopub.execute_input": "2021-10-03T03:33:46.765706Z",
     "iopub.status.busy": "2021-10-03T03:33:46.765377Z",
     "iopub.status.idle": "2021-10-03T03:33:48.757171Z",
     "shell.execute_reply": "2021-10-03T03:33:48.756397Z",
     "shell.execute_reply.started": "2021-10-03T03:33:46.765676Z"
    }
   },
   "outputs": [
    {
     "data": {
      "image/png": "[encoded data removed]",
      "text/plain": [
       "<Figure size 1080x1080 with 2 Axes>"
      ]
     },
     "metadata": {},
     "output_type": "display_data"
    }
   ],
   "source": [
    "from sklearn.metrics import confusion_matrix\n",
    "CM = confusion_matrix(y_test, y_pred)\n",
    "plt.figure(figsize = (15,15))\n",
    "sns.heatmap(CM, annot=True, cmap=\"Blues\", fmt = 'g')\n",
    "plt.xlabel(\"Predicted Classes\")\n",
    "plt.ylabel(\"True Classes\")\n",
    "plt.title(\"Confusion Matrix\")\n",
    "plt.show()"
   ]
  },
  {
   "cell_type": "markdown",
   "metadata": {},
   "source": [
    "# Visualize the Predictions"
   ]
  },
  {
   "cell_type": "code",
   "execution_count": null,
   "metadata": {},
   "outputs": [],
   "source": [
    "plt.figure(figsize=(20,20))\n",
    "for i in range(9):\n",
    "    plt.subplot(3,3,i+1)\n",
    "    plt.imshow(X_test[i],cmap='gray')\n",
    "    plt.ylabel(f\"True: {alphabet[y_test[i]]}\")\n",
    "    plt.xlabel(f\"Predicted: {alphabet[y_pred[i]]}\")\n",
    "    \n",
    "plt.show()"
   ]
  },
  {
   "cell_type": "markdown",
   "metadata": {},
   "source": [
    "<img style=\"float: left;\" src=\"asl.png\">"
   ]
  },
  {
   "cell_type": "markdown",
   "metadata": {},
   "source": [
    "## Conclusion and Future Work\n",
    "<font color='purple'>**We observed 99.32% accuracy on the alphabet gestures, and 99.16% validation set accuracy on digits, when using the MNIST ASL dataset.**</font>\n",
    "\n",
    "<font color='purple'>**In recognizing that classification is a limited goal, we plan on incorporating structured PGMs in future implementations of this classification schema that would describe the probability distributions of the different letters’ occurrences based on their sequential contexts.**</font>\n",
    "\n",
    "<font color='purple'>**We also recognize that the representation itself makes a huge difference in the performance of algorithms like ours, so we hope to find the best representation of our data, and building off our results from this research, incorporate it into a zero-shot learning process.**</font>"
   ]
  },
  {
   "cell_type": "code",
   "execution_count": null,
   "metadata": {},
   "outputs": [],
   "source": []
  }
 ],
 "metadata": {
  "kernelspec": {
   "display_name": "Python 3",
   "language": "python",
   "name": "python3"
  },
  "language_info": {
   "codemirror_mode": {
    "name": "ipython",
    "version": 3
   },
   "file_extension": ".py",
   "mimetype": "text/x-python",
   "name": "python",
   "nbconvert_exporter": "python",
   "pygments_lexer": "ipython3",
   "version": "3.8.8"
  }
 },
 "nbformat": 4,
 "nbformat_minor": 4
}
